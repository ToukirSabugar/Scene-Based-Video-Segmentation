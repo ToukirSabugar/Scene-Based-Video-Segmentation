version https://git-lfs.github.com/spec/v1
oid sha256:d48e802787e4ed6aeb5d79726c3ad6ea403a3d758b45b0d5d4ad13452a7bcd0b
size 57180040
